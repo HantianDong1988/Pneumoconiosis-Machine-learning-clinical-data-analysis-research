{
 "cells": [
  {
   "cell_type": "code",
   "execution_count": 140,
   "id": "ed3824c6-3cc7-49ed-9413-c400942bae2b",
   "metadata": {},
   "outputs": [],
   "source": [
    "# 导入所需要的模块和库\n",
    "import numpy as np\n",
    "import pandas as pd\n",
    "import matplotlib.pyplot as plt \n",
    "\n",
    "from sklearn.linear_model import LogisticRegression as LR\n",
    "from sklearn.datasets import load_breast_cancer\n",
    "from sklearn.model_selection import train_test_split\n",
    "from sklearn.preprocessing import StandardScaler"
   ]
  },
  {
   "cell_type": "code",
   "execution_count": 141,
   "id": "d86d3eca-929b-47df-8aeb-ace8cc2d65da",
   "metadata": {},
   "outputs": [],
   "source": [
    "data = pd.read_csv(\"模型预测_19.csv\")"
   ]
  },
  {
   "cell_type": "code",
   "execution_count": 142,
   "id": "5fa98d3a-d6eb-4dde-8056-440ccad942a5",
   "metadata": {},
   "outputs": [],
   "source": [
    "X = data.iloc[:,1:-1]\n",
    "y = data.iloc[:,-1:]"
   ]
  },
  {
   "cell_type": "code",
   "execution_count": 143,
   "id": "cc48b944-55d4-47c3-9d30-34f92378263e",
   "metadata": {
    "tags": []
   },
   "outputs": [
    {
     "data": {
      "text/html": [
       "<div>\n",
       "<style scoped>\n",
       "    .dataframe tbody tr th:only-of-type {\n",
       "        vertical-align: middle;\n",
       "    }\n",
       "\n",
       "    .dataframe tbody tr th {\n",
       "        vertical-align: top;\n",
       "    }\n",
       "\n",
       "    .dataframe thead th {\n",
       "        text-align: right;\n",
       "    }\n",
       "</style>\n",
       "<table border=\"1\" class=\"dataframe\">\n",
       "  <thead>\n",
       "    <tr style=\"text-align: right;\">\n",
       "      <th></th>\n",
       "      <th>P(A-a)O2</th>\n",
       "      <th>FEV1实测值</th>\n",
       "      <th>RV实测值</th>\n",
       "      <th>DLCO SB</th>\n",
       "      <th>IC</th>\n",
       "      <th>中性粒细胞百分数</th>\n",
       "      <th>ALT</th>\n",
       "      <th>GGT</th>\n",
       "      <th>尿素</th>\n",
       "      <th>肌酐</th>\n",
       "      <th>尿酸</th>\n",
       "      <th>钙</th>\n",
       "      <th>总胆固醇</th>\n",
       "      <th>BNP</th>\n",
       "      <th>糖化血红蛋白</th>\n",
       "      <th>血管紧张素转换酶</th>\n",
       "      <th>凝血酶原活动度(PTA)</th>\n",
       "      <th>纤维蛋白原定量(Fib)</th>\n",
       "      <th>血清骨胶素CYFRA21-1测定(CYFRA21-1)</th>\n",
       "    </tr>\n",
       "  </thead>\n",
       "  <tbody>\n",
       "    <tr>\n",
       "      <th>0</th>\n",
       "      <td>72.30</td>\n",
       "      <td>2.51</td>\n",
       "      <td>1.94</td>\n",
       "      <td>9.13</td>\n",
       "      <td>3.09</td>\n",
       "      <td>65.8</td>\n",
       "      <td>18</td>\n",
       "      <td>27</td>\n",
       "      <td>6.09</td>\n",
       "      <td>87.4</td>\n",
       "      <td>388</td>\n",
       "      <td>1.16</td>\n",
       "      <td>4.20</td>\n",
       "      <td>7</td>\n",
       "      <td>5.29</td>\n",
       "      <td>15.1</td>\n",
       "      <td>90.2</td>\n",
       "      <td>2.84</td>\n",
       "      <td>2.78</td>\n",
       "    </tr>\n",
       "    <tr>\n",
       "      <th>1</th>\n",
       "      <td>16.50</td>\n",
       "      <td>2.23</td>\n",
       "      <td>2.47</td>\n",
       "      <td>8.72</td>\n",
       "      <td>2.89</td>\n",
       "      <td>56.2</td>\n",
       "      <td>46</td>\n",
       "      <td>131</td>\n",
       "      <td>5.83</td>\n",
       "      <td>70.5</td>\n",
       "      <td>267</td>\n",
       "      <td>1.14</td>\n",
       "      <td>6.77</td>\n",
       "      <td>9</td>\n",
       "      <td>5.81</td>\n",
       "      <td>11.7</td>\n",
       "      <td>93.8</td>\n",
       "      <td>2.23</td>\n",
       "      <td>1.89</td>\n",
       "    </tr>\n",
       "    <tr>\n",
       "      <th>2</th>\n",
       "      <td>31.50</td>\n",
       "      <td>3.36</td>\n",
       "      <td>2.28</td>\n",
       "      <td>8.60</td>\n",
       "      <td>3.12</td>\n",
       "      <td>68.9</td>\n",
       "      <td>26</td>\n",
       "      <td>19</td>\n",
       "      <td>4.75</td>\n",
       "      <td>60.2</td>\n",
       "      <td>343</td>\n",
       "      <td>1.16</td>\n",
       "      <td>6.32</td>\n",
       "      <td>4</td>\n",
       "      <td>4.86</td>\n",
       "      <td>17.7</td>\n",
       "      <td>86.8</td>\n",
       "      <td>3.26</td>\n",
       "      <td>2.12</td>\n",
       "    </tr>\n",
       "    <tr>\n",
       "      <th>3</th>\n",
       "      <td>16.40</td>\n",
       "      <td>2.70</td>\n",
       "      <td>2.24</td>\n",
       "      <td>9.72</td>\n",
       "      <td>2.71</td>\n",
       "      <td>54.5</td>\n",
       "      <td>19</td>\n",
       "      <td>43</td>\n",
       "      <td>5.39</td>\n",
       "      <td>74.5</td>\n",
       "      <td>343</td>\n",
       "      <td>1.17</td>\n",
       "      <td>6.48</td>\n",
       "      <td>7</td>\n",
       "      <td>4.98</td>\n",
       "      <td>42.3</td>\n",
       "      <td>88.5</td>\n",
       "      <td>3.37</td>\n",
       "      <td>1.90</td>\n",
       "    </tr>\n",
       "    <tr>\n",
       "      <th>4</th>\n",
       "      <td>10.73</td>\n",
       "      <td>2.72</td>\n",
       "      <td>2.37</td>\n",
       "      <td>8.59</td>\n",
       "      <td>2.56</td>\n",
       "      <td>58.5</td>\n",
       "      <td>25</td>\n",
       "      <td>95</td>\n",
       "      <td>7.09</td>\n",
       "      <td>87.5</td>\n",
       "      <td>367</td>\n",
       "      <td>1.10</td>\n",
       "      <td>5.78</td>\n",
       "      <td>12</td>\n",
       "      <td>5.55</td>\n",
       "      <td>83.1</td>\n",
       "      <td>74.9</td>\n",
       "      <td>2.17</td>\n",
       "      <td>1.66</td>\n",
       "    </tr>\n",
       "    <tr>\n",
       "      <th>...</th>\n",
       "      <td>...</td>\n",
       "      <td>...</td>\n",
       "      <td>...</td>\n",
       "      <td>...</td>\n",
       "      <td>...</td>\n",
       "      <td>...</td>\n",
       "      <td>...</td>\n",
       "      <td>...</td>\n",
       "      <td>...</td>\n",
       "      <td>...</td>\n",
       "      <td>...</td>\n",
       "      <td>...</td>\n",
       "      <td>...</td>\n",
       "      <td>...</td>\n",
       "      <td>...</td>\n",
       "      <td>...</td>\n",
       "      <td>...</td>\n",
       "      <td>...</td>\n",
       "      <td>...</td>\n",
       "    </tr>\n",
       "    <tr>\n",
       "      <th>105</th>\n",
       "      <td>13.20</td>\n",
       "      <td>3.48</td>\n",
       "      <td>1.27</td>\n",
       "      <td>9.83</td>\n",
       "      <td>3.21</td>\n",
       "      <td>69.8</td>\n",
       "      <td>20</td>\n",
       "      <td>19</td>\n",
       "      <td>4.25</td>\n",
       "      <td>61.8</td>\n",
       "      <td>251</td>\n",
       "      <td>1.11</td>\n",
       "      <td>4.56</td>\n",
       "      <td>14</td>\n",
       "      <td>4.46</td>\n",
       "      <td>40.4</td>\n",
       "      <td>95.7</td>\n",
       "      <td>2.96</td>\n",
       "      <td>1.98</td>\n",
       "    </tr>\n",
       "    <tr>\n",
       "      <th>106</th>\n",
       "      <td>6.10</td>\n",
       "      <td>4.09</td>\n",
       "      <td>1.51</td>\n",
       "      <td>11.28</td>\n",
       "      <td>3.62</td>\n",
       "      <td>60.2</td>\n",
       "      <td>46</td>\n",
       "      <td>42</td>\n",
       "      <td>6.16</td>\n",
       "      <td>66.0</td>\n",
       "      <td>591</td>\n",
       "      <td>1.15</td>\n",
       "      <td>6.75</td>\n",
       "      <td>12</td>\n",
       "      <td>4.91</td>\n",
       "      <td>27.9</td>\n",
       "      <td>128.7</td>\n",
       "      <td>2.53</td>\n",
       "      <td>1.25</td>\n",
       "    </tr>\n",
       "    <tr>\n",
       "      <th>107</th>\n",
       "      <td>17.25</td>\n",
       "      <td>3.07</td>\n",
       "      <td>1.14</td>\n",
       "      <td>8.84</td>\n",
       "      <td>2.83</td>\n",
       "      <td>68.0</td>\n",
       "      <td>17</td>\n",
       "      <td>26</td>\n",
       "      <td>4.47</td>\n",
       "      <td>67.0</td>\n",
       "      <td>337</td>\n",
       "      <td>1.12</td>\n",
       "      <td>4.46</td>\n",
       "      <td>9</td>\n",
       "      <td>4.43</td>\n",
       "      <td>20.5</td>\n",
       "      <td>88.5</td>\n",
       "      <td>2.37</td>\n",
       "      <td>1.32</td>\n",
       "    </tr>\n",
       "    <tr>\n",
       "      <th>108</th>\n",
       "      <td>7.60</td>\n",
       "      <td>3.74</td>\n",
       "      <td>1.35</td>\n",
       "      <td>10.49</td>\n",
       "      <td>3.44</td>\n",
       "      <td>56.6</td>\n",
       "      <td>15</td>\n",
       "      <td>33</td>\n",
       "      <td>6.44</td>\n",
       "      <td>72.2</td>\n",
       "      <td>277</td>\n",
       "      <td>1.10</td>\n",
       "      <td>5.33</td>\n",
       "      <td>20</td>\n",
       "      <td>4.57</td>\n",
       "      <td>39.4</td>\n",
       "      <td>93.8</td>\n",
       "      <td>1.84</td>\n",
       "      <td>1.13</td>\n",
       "    </tr>\n",
       "    <tr>\n",
       "      <th>109</th>\n",
       "      <td>23.88</td>\n",
       "      <td>2.48</td>\n",
       "      <td>1.87</td>\n",
       "      <td>8.08</td>\n",
       "      <td>2.61</td>\n",
       "      <td>68.7</td>\n",
       "      <td>30</td>\n",
       "      <td>17</td>\n",
       "      <td>4.90</td>\n",
       "      <td>70.5</td>\n",
       "      <td>320</td>\n",
       "      <td>1.14</td>\n",
       "      <td>6.11</td>\n",
       "      <td>29</td>\n",
       "      <td>4.78</td>\n",
       "      <td>25.2</td>\n",
       "      <td>93.8</td>\n",
       "      <td>3.49</td>\n",
       "      <td>1.31</td>\n",
       "    </tr>\n",
       "  </tbody>\n",
       "</table>\n",
       "<p>110 rows × 19 columns</p>\n",
       "</div>"
      ],
      "text/plain": [
       "     P(A-a)O2  FEV1实测值  RV实测值  DLCO SB    IC  中性粒细胞百分数  ALT  GGT    尿素    肌酐  \\\n",
       "0       72.30     2.51   1.94     9.13  3.09      65.8   18   27  6.09  87.4   \n",
       "1       16.50     2.23   2.47     8.72  2.89      56.2   46  131  5.83  70.5   \n",
       "2       31.50     3.36   2.28     8.60  3.12      68.9   26   19  4.75  60.2   \n",
       "3       16.40     2.70   2.24     9.72  2.71      54.5   19   43  5.39  74.5   \n",
       "4       10.73     2.72   2.37     8.59  2.56      58.5   25   95  7.09  87.5   \n",
       "..        ...      ...    ...      ...   ...       ...  ...  ...   ...   ...   \n",
       "105     13.20     3.48   1.27     9.83  3.21      69.8   20   19  4.25  61.8   \n",
       "106      6.10     4.09   1.51    11.28  3.62      60.2   46   42  6.16  66.0   \n",
       "107     17.25     3.07   1.14     8.84  2.83      68.0   17   26  4.47  67.0   \n",
       "108      7.60     3.74   1.35    10.49  3.44      56.6   15   33  6.44  72.2   \n",
       "109     23.88     2.48   1.87     8.08  2.61      68.7   30   17  4.90  70.5   \n",
       "\n",
       "      尿酸     钙  总胆固醇  BNP  糖化血红蛋白  血管紧张素转换酶  凝血酶原活动度(PTA)  纤维蛋白原定量(Fib)  \\\n",
       "0    388  1.16  4.20    7    5.29      15.1          90.2          2.84   \n",
       "1    267  1.14  6.77    9    5.81      11.7          93.8          2.23   \n",
       "2    343  1.16  6.32    4    4.86      17.7          86.8          3.26   \n",
       "3    343  1.17  6.48    7    4.98      42.3          88.5          3.37   \n",
       "4    367  1.10  5.78   12    5.55      83.1          74.9          2.17   \n",
       "..   ...   ...   ...  ...     ...       ...           ...           ...   \n",
       "105  251  1.11  4.56   14    4.46      40.4          95.7          2.96   \n",
       "106  591  1.15  6.75   12    4.91      27.9         128.7          2.53   \n",
       "107  337  1.12  4.46    9    4.43      20.5          88.5          2.37   \n",
       "108  277  1.10  5.33   20    4.57      39.4          93.8          1.84   \n",
       "109  320  1.14  6.11   29    4.78      25.2          93.8          3.49   \n",
       "\n",
       "     血清骨胶素CYFRA21-1测定(CYFRA21-1)  \n",
       "0                           2.78  \n",
       "1                           1.89  \n",
       "2                           2.12  \n",
       "3                           1.90  \n",
       "4                           1.66  \n",
       "..                           ...  \n",
       "105                         1.98  \n",
       "106                         1.25  \n",
       "107                         1.32  \n",
       "108                         1.13  \n",
       "109                         1.31  \n",
       "\n",
       "[110 rows x 19 columns]"
      ]
     },
     "execution_count": 143,
     "metadata": {},
     "output_type": "execute_result"
    }
   ],
   "source": [
    "X"
   ]
  },
  {
   "cell_type": "code",
   "execution_count": 144,
   "id": "e38256e1-7c00-48a2-917c-f62a7cfd26ab",
   "metadata": {
    "tags": []
   },
   "outputs": [],
   "source": [
    "# 切分训练集和测试集\n",
    "Xtrain,Xtest,Ytrain,Ytest = train_test_split(X,y,test_size=0.3,random_state=23)"
   ]
  },
  {
   "cell_type": "code",
   "execution_count": 145,
   "id": "d819d6ef-da31-488c-bc39-5f6003d82370",
   "metadata": {},
   "outputs": [],
   "source": [
    "for i in [Xtrain,Xtest,Ytrain,Ytest]:\n",
    "    i.reset_index(drop = True,inplace = True)"
   ]
  },
  {
   "cell_type": "code",
   "execution_count": 146,
   "id": "761c0b2f-8225-461d-bac3-0e57cef42682",
   "metadata": {},
   "outputs": [
    {
     "data": {
      "text/plain": [
       "是否尘肺\n",
       "0       39\n",
       "1       38\n",
       "dtype: int64"
      ]
     },
     "execution_count": 146,
     "metadata": {},
     "output_type": "execute_result"
    }
   ],
   "source": [
    "Ytrain.value_counts()"
   ]
  },
  {
   "cell_type": "code",
   "execution_count": 147,
   "id": "0c0df4c9-2841-42ab-b98f-1519fad7bbf2",
   "metadata": {},
   "outputs": [],
   "source": [
    "scaler2 = StandardScaler()\n",
    "Xtrain = scaler2.fit_transform(Xtrain)\n",
    "Xtest = scaler2.transform(Xtest)"
   ]
  },
  {
   "cell_type": "code",
   "execution_count": 148,
   "id": "d04ca819-243c-47e0-b839-3eeb6d7014d1",
   "metadata": {},
   "outputs": [
    {
     "name": "stderr",
     "output_type": "stream",
     "text": [
      "D:\\IDEpy\\anaconda3\\lib\\site-packages\\sklearn\\utils\\validation.py:993: DataConversionWarning: A column-vector y was passed when a 1d array was expected. Please change the shape of y to (n_samples, ), for example using ravel().\n",
      "  y = column_or_1d(y, warn=True)\n"
     ]
    }
   ],
   "source": [
    "# 建立模型&评估模型\n",
    "LR_model = LR() #实例化\n",
    "LR_model = LR_model.fit(Xtrain,Ytrain) #训练模型"
   ]
  },
  {
   "cell_type": "code",
   "execution_count": 149,
   "id": "99edad88-a322-4aac-95b6-25542f4ca71f",
   "metadata": {},
   "outputs": [
    {
     "data": {
      "text/plain": [
       "0.8484848484848485"
      ]
     },
     "execution_count": 149,
     "metadata": {},
     "output_type": "execute_result"
    }
   ],
   "source": [
    "score = LR_model.score(Xtest,Ytest)\n",
    "score"
   ]
  },
  {
   "cell_type": "code",
   "execution_count": 150,
   "id": "7cfc1947-3153-4800-8cd2-e344dfadd8bb",
   "metadata": {},
   "outputs": [
    {
     "data": {
      "text/plain": [
       "1.0"
      ]
     },
     "execution_count": 150,
     "metadata": {},
     "output_type": "execute_result"
    }
   ],
   "source": [
    "LR_model.score(Xtrain,Ytrain) "
   ]
  },
  {
   "cell_type": "code",
   "execution_count": 135,
   "id": "628c22a1-c255-416f-9460-b87859703e1d",
   "metadata": {
    "tags": []
   },
   "outputs": [
    {
     "data": {
      "text/plain": [
       "[('血清骨胶素CYFRA21-1测定(CYFRA21-1)', 1.21728868555879),\n",
       " ('糖化血红蛋白', 1.0462454387025986),\n",
       " ('钙', -0.9884829063481162),\n",
       " ('GGT', 0.8639833003871475),\n",
       " ('总胆固醇', 0.8318317120651383),\n",
       " ('尿素', 0.7896337703434794),\n",
       " ('RV实测值', 0.7664124168584687),\n",
       " ('血管紧张素转换酶', 0.6399945735727675),\n",
       " ('IC', 0.6394463212747797),\n",
       " ('中性粒细胞百分数', 0.622018126688203),\n",
       " ('P(A-a)O2', 0.6211073349528251),\n",
       " ('FEV1实测值', -0.5111198938283749),\n",
       " ('DLCO SB', -0.47059758884954117),\n",
       " ('BNP', 0.4644459691479936),\n",
       " ('凝血酶原活动度(PTA)', -0.42666164993888833),\n",
       " ('纤维蛋白原定量(Fib)', 0.3148492825899745),\n",
       " ('肌酐', 0.2991484534807765),\n",
       " ('ALT', -0.2593951124259339),\n",
       " ('尿酸', -0.04411172979904717)]"
      ]
     },
     "execution_count": 135,
     "metadata": {},
     "output_type": "execute_result"
    }
   ],
   "source": [
    "#返回每个特征所对应的权重系数\n",
    "sorted([*zip(X.columns,LR_model.coef_.ravel())],key=lambda s: abs(s[1]),reverse=True)"
   ]
  },
  {
   "cell_type": "code",
   "execution_count": 136,
   "id": "cb3469be-9bc8-4de5-907b-6f775fe7f6cb",
   "metadata": {},
   "outputs": [],
   "source": [
    "from sklearn.metrics import confusion_matrix"
   ]
  },
  {
   "cell_type": "code",
   "execution_count": 137,
   "id": "448d2f45-50f7-4c6c-8ac0-64f177d97489",
   "metadata": {},
   "outputs": [],
   "source": [
    "LR_pred = LR_model.predict(Xtrain)"
   ]
  },
  {
   "cell_type": "code",
   "execution_count": 138,
   "id": "a7b79d88-2951-4dae-aee9-6b5b79eec1c3",
   "metadata": {},
   "outputs": [
    {
     "data": {
      "text/plain": [
       "array([[39,  0],\n",
       "       [ 0, 38]], dtype=int64)"
      ]
     },
     "execution_count": 138,
     "metadata": {},
     "output_type": "execute_result"
    }
   ],
   "source": [
    "# 查看混淆矩阵结果\n",
    "confusion_matrix(Ytrain,LR_pred)"
   ]
  },
  {
   "cell_type": "code",
   "execution_count": 139,
   "id": "34cbeed9-7922-4cb7-8fd8-d1c20c6d9df0",
   "metadata": {},
   "outputs": [
    {
     "name": "stdout",
     "output_type": "stream",
     "text": [
      "              precision    recall  f1-score   support\n",
      "\n",
      "           0       1.00      1.00      1.00        39\n",
      "           1       1.00      1.00      1.00        38\n",
      "\n",
      "    accuracy                           1.00        77\n",
      "   macro avg       1.00      1.00      1.00        77\n",
      "weighted avg       1.00      1.00      1.00        77\n",
      "\n"
     ]
    }
   ],
   "source": [
    "from sklearn.metrics import classification_report\n",
    "print(classification_report(Ytrain,LR_pred))"
   ]
  },
  {
   "cell_type": "code",
   "execution_count": null,
   "id": "75218ece-9ff0-4b96-9579-49df4a3107b2",
   "metadata": {},
   "outputs": [],
   "source": []
  },
  {
   "cell_type": "code",
   "execution_count": null,
   "id": "bbe14e30-c9cd-4c0f-9c89-f25deab992ae",
   "metadata": {},
   "outputs": [],
   "source": []
  },
  {
   "cell_type": "code",
   "execution_count": null,
   "id": "2e8677da-12e9-465c-a84b-8d18e5b30e80",
   "metadata": {},
   "outputs": [],
   "source": []
  },
  {
   "cell_type": "code",
   "execution_count": 151,
   "id": "654a814e-3449-45be-afc9-e916aa146152",
   "metadata": {},
   "outputs": [],
   "source": [
    "from sklearn.ensemble import RandomForestClassifier as RFC\n",
    "from sklearn.model_selection import cross_val_score"
   ]
  },
  {
   "cell_type": "code",
   "execution_count": null,
   "id": "72f0f796-b740-458c-8fb8-00a59c670b2b",
   "metadata": {},
   "outputs": [],
   "source": [
    "RFC_model = RFC(random_state=23) #实例化随机森林"
   ]
  }
 ],
 "metadata": {
  "kernelspec": {
   "display_name": "Python 3 (ipykernel)",
   "language": "python",
   "name": "python3"
  },
  "language_info": {
   "codemirror_mode": {
    "name": "ipython",
    "version": 3
   },
   "file_extension": ".py",
   "mimetype": "text/x-python",
   "name": "python",
   "nbconvert_exporter": "python",
   "pygments_lexer": "ipython3",
   "version": "3.9.7"
  }
 },
 "nbformat": 4,
 "nbformat_minor": 5
}
